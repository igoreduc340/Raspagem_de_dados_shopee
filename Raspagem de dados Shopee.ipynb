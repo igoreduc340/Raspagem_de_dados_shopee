{
 "cells": [
  {
   "cell_type": "code",
   "execution_count": null,
   "id": "e2e07c63",
   "metadata": {},
   "outputs": [],
   "source": [
    "from selenium import webdriver\n",
    "from selenium.webdriver.chrome.service import Service\n",
    "from selenium.webdriver.common.by import By\n",
    "from selenium.common.exceptions import NoSuchElementException\n",
    "import time\n",
    "import pandas as pd\n",
    "\n",
    "# Crie um objeto Service apontando para o executável do chromedriver\n",
    "servico = Service(executable_path=r'./chromedriver.exe')\n",
    "\n",
    "# Crie o navegador Chrome usando o objeto Service\n",
    "navegador = webdriver.Chrome(service=servico)\n",
    "\n",
    "# Navegue para o site da Shopee\n",
    "navegador.get('https://shopee.com.br')"
   ]
  },
  {
   "cell_type": "code",
   "execution_count": 2,
   "id": "18c0892e",
   "metadata": {},
   "outputs": [
    {
     "ename": "NoSuchWindowException",
     "evalue": "Message: no such window: target window already closed\nfrom unknown error: web view not found\n  (Session info: chrome=115.0.5790.173)\nStacktrace:\nBacktrace:\n\tGetHandleVerifier [0x00007FF6D7FF2762+56978]\n\t(No symbol) [0x00007FF6D7F6AB92]\n\t(No symbol) [0x00007FF6D7E3EEBB]\n\t(No symbol) [0x00007FF6D7E1DDC9]\n\t(No symbol) [0x00007FF6D7E9A007]\n\t(No symbol) [0x00007FF6D7EACD2F]\n\t(No symbol) [0x00007FF6D7E95993]\n\t(No symbol) [0x00007FF6D7E6D7B1]\n\t(No symbol) [0x00007FF6D7E6E994]\n\tGetHandleVerifier [0x00007FF6D82A5D82+2888882]\n\tGetHandleVerifier [0x00007FF6D82F9A08+3232056]\n\tGetHandleVerifier [0x00007FF6D82F281F+3202895]\n\tGetHandleVerifier [0x00007FF6D8086915+663621]\n\t(No symbol) [0x00007FF6D7F764B8]\n\t(No symbol) [0x00007FF6D7F72434]\n\t(No symbol) [0x00007FF6D7F7252C]\n\t(No symbol) [0x00007FF6D7F628B3]\n\tBaseThreadInitThunk [0x00007FFF8EFE26AD+29]\n\tRtlUserThreadStart [0x00007FFF9036AA68+40]\n",
     "output_type": "error",
     "traceback": [
      "\u001b[1;31m---------------------------------------------------------------------------\u001b[0m",
      "\u001b[1;31mNoSuchWindowException\u001b[0m                     Traceback (most recent call last)",
      "\u001b[1;32m~\\AppData\\Local\\Temp\\ipykernel_21532\\793414446.py\u001b[0m in \u001b[0;36m<module>\u001b[1;34m\u001b[0m\n\u001b[0;32m      5\u001b[0m \u001b[1;33m\u001b[0m\u001b[0m\n\u001b[0;32m      6\u001b[0m \u001b[1;32mwhile\u001b[0m \u001b[1;32mTrue\u001b[0m\u001b[1;33m:\u001b[0m\u001b[1;33m\u001b[0m\u001b[1;33m\u001b[0m\u001b[0m\n\u001b[1;32m----> 7\u001b[1;33m     \u001b[0melementos_div\u001b[0m \u001b[1;33m=\u001b[0m \u001b[0mnavegador\u001b[0m\u001b[1;33m.\u001b[0m\u001b[0mfind_elements\u001b[0m\u001b[1;33m(\u001b[0m\u001b[0mBy\u001b[0m\u001b[1;33m.\u001b[0m\u001b[0mCSS_SELECTOR\u001b[0m\u001b[1;33m,\u001b[0m \u001b[1;34m\"div.shop-search-result-view__item.col-xs-2-4\"\u001b[0m\u001b[1;33m)\u001b[0m\u001b[1;33m\u001b[0m\u001b[1;33m\u001b[0m\u001b[0m\n\u001b[0m\u001b[0;32m      8\u001b[0m \u001b[1;33m\u001b[0m\u001b[0m\n\u001b[0;32m      9\u001b[0m     \u001b[1;32mfor\u001b[0m \u001b[0melemento_div\u001b[0m \u001b[1;32min\u001b[0m \u001b[0melementos_div\u001b[0m\u001b[1;33m:\u001b[0m\u001b[1;33m\u001b[0m\u001b[1;33m\u001b[0m\u001b[0m\n",
      "\u001b[1;32mD:\\Anaconda\\lib\\site-packages\\selenium\\webdriver\\remote\\webdriver.py\u001b[0m in \u001b[0;36mfind_elements\u001b[1;34m(self, by, value)\u001b[0m\n\u001b[0;32m    890\u001b[0m         \u001b[1;31m# Return empty list if driver returns null\u001b[0m\u001b[1;33m\u001b[0m\u001b[1;33m\u001b[0m\u001b[0m\n\u001b[0;32m    891\u001b[0m         \u001b[1;31m# See https://github.com/SeleniumHQ/selenium/issues/4555\u001b[0m\u001b[1;33m\u001b[0m\u001b[1;33m\u001b[0m\u001b[0m\n\u001b[1;32m--> 892\u001b[1;33m         \u001b[1;32mreturn\u001b[0m \u001b[0mself\u001b[0m\u001b[1;33m.\u001b[0m\u001b[0mexecute\u001b[0m\u001b[1;33m(\u001b[0m\u001b[0mCommand\u001b[0m\u001b[1;33m.\u001b[0m\u001b[0mFIND_ELEMENTS\u001b[0m\u001b[1;33m,\u001b[0m \u001b[1;33m{\u001b[0m\u001b[1;34m\"using\"\u001b[0m\u001b[1;33m:\u001b[0m \u001b[0mby\u001b[0m\u001b[1;33m,\u001b[0m \u001b[1;34m\"value\"\u001b[0m\u001b[1;33m:\u001b[0m \u001b[0mvalue\u001b[0m\u001b[1;33m}\u001b[0m\u001b[1;33m)\u001b[0m\u001b[1;33m[\u001b[0m\u001b[1;34m\"value\"\u001b[0m\u001b[1;33m]\u001b[0m \u001b[1;32mor\u001b[0m \u001b[1;33m[\u001b[0m\u001b[1;33m]\u001b[0m\u001b[1;33m\u001b[0m\u001b[1;33m\u001b[0m\u001b[0m\n\u001b[0m\u001b[0;32m    893\u001b[0m \u001b[1;33m\u001b[0m\u001b[0m\n\u001b[0;32m    894\u001b[0m     \u001b[1;33m@\u001b[0m\u001b[0mproperty\u001b[0m\u001b[1;33m\u001b[0m\u001b[1;33m\u001b[0m\u001b[0m\n",
      "\u001b[1;32mD:\\Anaconda\\lib\\site-packages\\selenium\\webdriver\\remote\\webdriver.py\u001b[0m in \u001b[0;36mexecute\u001b[1;34m(self, driver_command, params)\u001b[0m\n\u001b[0;32m    442\u001b[0m         \u001b[0mresponse\u001b[0m \u001b[1;33m=\u001b[0m \u001b[0mself\u001b[0m\u001b[1;33m.\u001b[0m\u001b[0mcommand_executor\u001b[0m\u001b[1;33m.\u001b[0m\u001b[0mexecute\u001b[0m\u001b[1;33m(\u001b[0m\u001b[0mdriver_command\u001b[0m\u001b[1;33m,\u001b[0m \u001b[0mparams\u001b[0m\u001b[1;33m)\u001b[0m\u001b[1;33m\u001b[0m\u001b[1;33m\u001b[0m\u001b[0m\n\u001b[0;32m    443\u001b[0m         \u001b[1;32mif\u001b[0m \u001b[0mresponse\u001b[0m\u001b[1;33m:\u001b[0m\u001b[1;33m\u001b[0m\u001b[1;33m\u001b[0m\u001b[0m\n\u001b[1;32m--> 444\u001b[1;33m             \u001b[0mself\u001b[0m\u001b[1;33m.\u001b[0m\u001b[0merror_handler\u001b[0m\u001b[1;33m.\u001b[0m\u001b[0mcheck_response\u001b[0m\u001b[1;33m(\u001b[0m\u001b[0mresponse\u001b[0m\u001b[1;33m)\u001b[0m\u001b[1;33m\u001b[0m\u001b[1;33m\u001b[0m\u001b[0m\n\u001b[0m\u001b[0;32m    445\u001b[0m             \u001b[0mresponse\u001b[0m\u001b[1;33m[\u001b[0m\u001b[1;34m\"value\"\u001b[0m\u001b[1;33m]\u001b[0m \u001b[1;33m=\u001b[0m \u001b[0mself\u001b[0m\u001b[1;33m.\u001b[0m\u001b[0m_unwrap_value\u001b[0m\u001b[1;33m(\u001b[0m\u001b[0mresponse\u001b[0m\u001b[1;33m.\u001b[0m\u001b[0mget\u001b[0m\u001b[1;33m(\u001b[0m\u001b[1;34m\"value\"\u001b[0m\u001b[1;33m,\u001b[0m \u001b[1;32mNone\u001b[0m\u001b[1;33m)\u001b[0m\u001b[1;33m)\u001b[0m\u001b[1;33m\u001b[0m\u001b[1;33m\u001b[0m\u001b[0m\n\u001b[0;32m    446\u001b[0m             \u001b[1;32mreturn\u001b[0m \u001b[0mresponse\u001b[0m\u001b[1;33m\u001b[0m\u001b[1;33m\u001b[0m\u001b[0m\n",
      "\u001b[1;32mD:\\Anaconda\\lib\\site-packages\\selenium\\webdriver\\remote\\errorhandler.py\u001b[0m in \u001b[0;36mcheck_response\u001b[1;34m(self, response)\u001b[0m\n\u001b[0;32m    247\u001b[0m                 \u001b[0malert_text\u001b[0m \u001b[1;33m=\u001b[0m \u001b[0mvalue\u001b[0m\u001b[1;33m[\u001b[0m\u001b[1;34m\"alert\"\u001b[0m\u001b[1;33m]\u001b[0m\u001b[1;33m.\u001b[0m\u001b[0mget\u001b[0m\u001b[1;33m(\u001b[0m\u001b[1;34m\"text\"\u001b[0m\u001b[1;33m)\u001b[0m\u001b[1;33m\u001b[0m\u001b[1;33m\u001b[0m\u001b[0m\n\u001b[0;32m    248\u001b[0m             \u001b[1;32mraise\u001b[0m \u001b[0mexception_class\u001b[0m\u001b[1;33m(\u001b[0m\u001b[0mmessage\u001b[0m\u001b[1;33m,\u001b[0m \u001b[0mscreen\u001b[0m\u001b[1;33m,\u001b[0m \u001b[0mstacktrace\u001b[0m\u001b[1;33m,\u001b[0m \u001b[0malert_text\u001b[0m\u001b[1;33m)\u001b[0m  \u001b[1;31m# type: ignore[call-arg]  # mypy is not smart enough here\u001b[0m\u001b[1;33m\u001b[0m\u001b[1;33m\u001b[0m\u001b[0m\n\u001b[1;32m--> 249\u001b[1;33m         \u001b[1;32mraise\u001b[0m \u001b[0mexception_class\u001b[0m\u001b[1;33m(\u001b[0m\u001b[0mmessage\u001b[0m\u001b[1;33m,\u001b[0m \u001b[0mscreen\u001b[0m\u001b[1;33m,\u001b[0m \u001b[0mstacktrace\u001b[0m\u001b[1;33m)\u001b[0m\u001b[1;33m\u001b[0m\u001b[1;33m\u001b[0m\u001b[0m\n\u001b[0m",
      "\u001b[1;31mNoSuchWindowException\u001b[0m: Message: no such window: target window already closed\nfrom unknown error: web view not found\n  (Session info: chrome=115.0.5790.173)\nStacktrace:\nBacktrace:\n\tGetHandleVerifier [0x00007FF6D7FF2762+56978]\n\t(No symbol) [0x00007FF6D7F6AB92]\n\t(No symbol) [0x00007FF6D7E3EEBB]\n\t(No symbol) [0x00007FF6D7E1DDC9]\n\t(No symbol) [0x00007FF6D7E9A007]\n\t(No symbol) [0x00007FF6D7EACD2F]\n\t(No symbol) [0x00007FF6D7E95993]\n\t(No symbol) [0x00007FF6D7E6D7B1]\n\t(No symbol) [0x00007FF6D7E6E994]\n\tGetHandleVerifier [0x00007FF6D82A5D82+2888882]\n\tGetHandleVerifier [0x00007FF6D82F9A08+3232056]\n\tGetHandleVerifier [0x00007FF6D82F281F+3202895]\n\tGetHandleVerifier [0x00007FF6D8086915+663621]\n\t(No symbol) [0x00007FF6D7F764B8]\n\t(No symbol) [0x00007FF6D7F72434]\n\t(No symbol) [0x00007FF6D7F7252C]\n\t(No symbol) [0x00007FF6D7F628B3]\n\tBaseThreadInitThunk [0x00007FFF8EFE26AD+29]\n\tRtlUserThreadStart [0x00007FFF9036AA68+40]\n"
     ]
    }
   ],
   "source": [
    "time.sleep(3)\n",
    "\n",
    "links = []  # Lista para armazenar os links\n",
    "ultima_pagina = None\n",
    "\n",
    "while True:\n",
    "    elementos_div = navegador.find_elements(By.CSS_SELECTOR, \"div.shop-search-result-view__item.col-xs-2-4\")\n",
    "\n",
    "    for elemento_div in elementos_div:\n",
    "        elemento_a = elemento_div.find_element(By.CSS_SELECTOR, \"a[data-sqe='link']\")\n",
    "        link = elemento_a.get_attribute('href')\n",
    "        \n",
    "        # Verifica se o link já foi coletado anteriormente\n",
    "        if link not in links:\n",
    "            links.append(link)\n",
    "\n",
    "    if ultima_pagina is not None and ultima_pagina == links[-1]:\n",
    "        break\n",
    "\n",
    "    ultima_pagina = links[-1]\n",
    "\n",
    "    botao_passar_pagina = navegador.find_elements(By.CSS_SELECTOR, \"button.shopee-icon-button.shopee-icon-button--right\")\n",
    "\n",
    "    navegador.execute_script(\"arguments[0].click();\", botao_passar_pagina[0])\n",
    "    time.sleep(6)  # Aguardar 6 segundos para o conteúdo carregar na próxima página\n"
   ]
  },
  {
   "cell_type": "code",
   "execution_count": null,
   "id": "e95821f0",
   "metadata": {},
   "outputs": [],
   "source": [
    "lista_de_info = []\n",
    "\n",
    "def encontrar_elemento(selector, default=\"Não exibe\"):\n",
    "    try:\n",
    "        return navegador.find_element(By.CSS_SELECTOR, selector).text\n",
    "    except NoSuchElementException:\n",
    "        return default\n",
    "    \n",
    "numero_de_repeticao = 0\n",
    "\n",
    "for link in links:\n",
    "    numero_de_repeticao += 1\n",
    "    navegador.get(link)\n",
    "    time.sleep(7)  # Aguardar 7 segundos antes de localizar os elementos\n",
    "\n",
    "    produto = encontrar_elemento(\"[class='pqTWkA']\")\n",
    "    nome = encontrar_elemento(\"div._44qnta span\")\n",
    "    vendas = encontrar_elemento(\"[class='e9sAa2']\")\n",
    "    avaliacoes = encontrar_elemento(\"[class='_1k47d8']\", 0)\n",
    "    estrelas = encontrar_elemento(\"[class='_1k47d8 _046PXf']\", \"Não exibe\")\n",
    "\n",
    "    dicionario = {'nome_do_produto': nome, 'preço': produto, 'vendas': vendas, 'avaliacoes': avaliacoes, 'estrelas': estrelas, 'link': link}\n",
    "    print(numero_de_repeticao,dicionario)\n",
    "    lista_de_info.append(dicionario)\n",
    "\n",
    "navegador.quit()"
   ]
  },
  {
   "cell_type": "code",
   "execution_count": null,
   "id": "2585b9a4",
   "metadata": {},
   "outputs": [],
   "source": [
    "for dicionario in lista_de_info:\n",
    "    df = pd.DataFrame.from_dict(dicionario, orient='index', columns=['valor'])\n"
   ]
  },
  {
   "cell_type": "code",
   "execution_count": null,
   "id": "4fcbb359",
   "metadata": {},
   "outputs": [],
   "source": [
    "compilada = None  # Inicializa compilada como None\n",
    "\n",
    "for dicionario in lista_de_info:\n",
    "    df = pd.DataFrame.from_dict(dicionario, orient='index', columns=['valor'])\n",
    "    df_invertido = df.transpose()  # ou df.T\n",
    "    if compilada is None:\n",
    "        compilada = df_invertido  # Se compilada é None, atribui o primeiro DataFrame diretamente\n",
    "    else:\n",
    "        lista_tabelas = [compilada, df_invertido]\n",
    "        compilada = pd.concat(lista_tabelas)  # Concatena os DataFrames"
   ]
  },
  {
   "cell_type": "code",
   "execution_count": null,
   "id": "f50b13cf",
   "metadata": {},
   "outputs": [],
   "source": [
    "compilada.to_excel('Importsprodutos.xlsx',index = False)"
   ]
  }
 ],
 "metadata": {
  "kernelspec": {
   "display_name": "Python 3 (ipykernel)",
   "language": "python",
   "name": "python3"
  },
  "language_info": {
   "codemirror_mode": {
    "name": "ipython",
    "version": 3
   },
   "file_extension": ".py",
   "mimetype": "text/x-python",
   "name": "python",
   "nbconvert_exporter": "python",
   "pygments_lexer": "ipython3",
   "version": "3.9.13"
  }
 },
 "nbformat": 4,
 "nbformat_minor": 5
}

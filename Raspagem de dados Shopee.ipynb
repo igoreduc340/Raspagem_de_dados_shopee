{
 "cells": [
  {
   "cell_type": "markdown",
   "id": "4f952c6c",
   "metadata": {},
   "source": [
    "# Importando Bibliotecas e Direcionando para a shopee"
   ]
  },
  {
   "cell_type": "code",
   "execution_count": null,
   "id": "f4a989a6",
   "metadata": {},
   "outputs": [],
   "source": [
    "from selenium import webdriver\n",
    "from selenium.webdriver.chrome.service import Service\n",
    "from selenium.webdriver.common.by import By\n",
    "from selenium.common.exceptions import NoSuchElementException\n",
    "import time\n",
    "import pandas as pd\n",
    "\n",
    "# Crie um objeto Service apontando para o executável do chromedriver\n",
    "servico = Service(executable_path=r'./chromedriver.exe')\n",
    "\n",
    "# Crie o navegador Chrome usando o objeto Service\n",
    "navegador = webdriver.Chrome(service=servico)\n",
    "\n",
    "# Preencha abaixo o link da pagina da shopee que você precisa raspar os dados\n",
    "navegador.get('Digite aqui o link')\n",
    "input('Digite qualquer coisa.')"
   ]
  },
  {
   "cell_type": "markdown",
   "id": "39236b18",
   "metadata": {},
   "source": [
    "# Coletando todos os links dos produtos"
   ]
  },
  {
   "cell_type": "code",
   "execution_count": null,
   "id": "18c0892e",
   "metadata": {},
   "outputs": [],
   "source": [
    "time.sleep(3)\n",
    "\n",
    "links = []  # Lista para armazenar os links\n",
    "ultima_pagina = None\n",
    "\n",
    "while True:\n",
    "    elementos_div = navegador.find_elements(By.CSS_SELECTOR, \"div.shop-search-result-view__item.col-xs-2-4\")\n",
    "\n",
    "    for elemento_div in elementos_div:\n",
    "        elemento_a = elemento_div.find_element(By.CSS_SELECTOR, \"a[data-sqe='link']\")\n",
    "        link = elemento_a.get_attribute('href')\n",
    "        \n",
    "        # Verifica se o link já foi coletado anteriormente\n",
    "        if link not in links:\n",
    "            links.append(link)\n",
    "\n",
    "    if ultima_pagina is not None and ultima_pagina == links[-1]:\n",
    "        break\n",
    "\n",
    "    ultima_pagina = links[-1]\n",
    "\n",
    "    botao_passar_pagina = navegador.find_elements(By.CSS_SELECTOR, \"button.shopee-icon-button.shopee-icon-button--right\")\n",
    "\n",
    "    navegador.execute_script(\"arguments[0].click();\", botao_passar_pagina[0])\n",
    "    time.sleep(6)  # Aguardar 6 segundos para o conteúdo carregar na próxima página"
   ]
  },
  {
   "cell_type": "markdown",
   "id": "3c9fd898",
   "metadata": {},
   "source": [
    "# Coletando os dados pagina a pagina pelo link."
   ]
  },
  {
   "cell_type": "code",
   "execution_count": null,
   "id": "e95821f0",
   "metadata": {},
   "outputs": [],
   "source": [
    "lista_de_info = []\n",
    "\n",
    "def encontrar_elemento(selector, default=\"Não exibe\"):\n",
    "    try:\n",
    "        return navegador.find_element(By.CSS_SELECTOR, selector).text\n",
    "    except NoSuchElementException:\n",
    "        return default\n",
    "    \n",
    "numero_de_repeticao = 0\n",
    "\n",
    "for link in links:\n",
    "    numero_de_repeticao += 1\n",
    "    navegador.get(link)\n",
    "    time.sleep(7)  # Aguardar 7 segundos antes de localizar os elementos\n",
    "\n",
    "    produto = encontrar_elemento(\"[class='pqTWkA']\")\n",
    "    nome = encontrar_elemento(\"div._44qnta span\")\n",
    "    vendas = encontrar_elemento(\"[class='e9sAa2']\")\n",
    "    avaliacoes = encontrar_elemento(\"[class='_1k47d8']\", 0)\n",
    "    estrelas = encontrar_elemento(\"[class='_1k47d8 _046PXf']\", \"Não exibe\")\n",
    "\n",
    "    dicionario = {'nome_do_produto': nome, 'preço': produto, 'vendas': vendas, 'avaliacoes': avaliacoes, 'estrelas': estrelas, 'link': link}\n",
    "    print(numero_de_repeticao,dicionario)\n",
    "    lista_de_info.append(dicionario)\n",
    "\n",
    "navegador.quit()"
   ]
  },
  {
   "cell_type": "markdown",
   "id": "00c40884",
   "metadata": {},
   "source": [
    "# Tratamento de dados com o Pandas e gerando arquivo xlsx."
   ]
  },
  {
   "cell_type": "code",
   "execution_count": null,
   "id": "2585b9a4",
   "metadata": {},
   "outputs": [],
   "source": [
    "for dicionario in lista_de_info:\n",
    "    df = pd.DataFrame.from_dict(dicionario, orient='index', columns=['valor'])\n",
    "\n",
    "compilada = None  # Inicializa compilada como None\n",
    "\n",
    "for dicionario in lista_de_info:\n",
    "    df = pd.DataFrame.from_dict(dicionario, orient='index', columns=['valor'])\n",
    "    df_invertido = df.transpose()  # ou df.T\n",
    "    if compilada is None:\n",
    "        compilada = df_invertido  # Se compilada é None, atribui o primeiro DataFrame diretamente\n",
    "    else:\n",
    "        lista_tabelas = [compilada, df_invertido]\n",
    "        compilada = pd.concat(lista_tabelas)  # Concatena os DataFrames\n",
    "        \n",
    "compilada.to_excel('Produtos.xlsx',index = False)\n"
   ]
  }
 ],
 "metadata": {
  "kernelspec": {
   "display_name": "Python 3 (ipykernel)",
   "language": "python",
   "name": "python3"
  },
  "language_info": {
   "codemirror_mode": {
    "name": "ipython",
    "version": 3
   },
   "file_extension": ".py",
   "mimetype": "text/x-python",
   "name": "python",
   "nbconvert_exporter": "python",
   "pygments_lexer": "ipython3",
   "version": "3.9.13"
  }
 },
 "nbformat": 4,
 "nbformat_minor": 5
}
